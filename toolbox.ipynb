{
  "nbformat": 4,
  "nbformat_minor": 0,
  "metadata": {
    "colab": {
      "name": "toolbox.ipynb",
      "provenance": [],
      "include_colab_link": true
    },
    "kernelspec": {
      "name": "python3",
      "display_name": "Python 3"
    },
    "language_info": {
      "name": "python"
    }
  },
  "cells": [
    {
      "cell_type": "markdown",
      "metadata": {
        "id": "view-in-github",
        "colab_type": "text"
      },
      "source": [
        "<a href=\"https://colab.research.google.com/github/Hong-Soonbin/ToolBox/blob/main/toolbox.ipynb\" target=\"_parent\"><img src=\"https://colab.research.google.com/assets/colab-badge.svg\" alt=\"Open In Colab\"/></a>"
      ]
    },
    {
      "cell_type": "markdown",
      "source": [
        "## 구글 드라이브 연동"
      ],
      "metadata": {
        "id": "WCuES3hrzPD-"
      }
    },
    {
      "cell_type": "code",
      "source": [
        "from google.colab import drive\n",
        "drive.mount('/content/drive')"
      ],
      "metadata": {
        "id": "Upvvxe3IzOmY"
      },
      "execution_count": null,
      "outputs": []
    },
    {
      "cell_type": "markdown",
      "source": [
        "##target에 대한 정규성 검증 qqplot 함수"
      ],
      "metadata": {
        "id": "zKDYsUU75ROQ"
      }
    },
    {
      "cell_type": "code",
      "source": [
        "#sapiro Normality Test\n",
        "from scipy import stats\n",
        "#qqplot \n",
        "from scipy.stats import probplot\n",
        "\n",
        "def shapiro_qq_plot(df):\n",
        "    '''\n",
        "    Args:\n",
        "        df['target']\n",
        "\n",
        "    Returns:\n",
        "        qq_plot and Shapiro statics of df['target']\n",
        "        with [raw, sqrt, log, log1p] transformations\n",
        "    '''\n",
        "    \n",
        "    # 경고메세지 끄기\n",
        "    import warnings\n",
        "    warnings.filterwarnings(action='ignore')\n",
        "\n",
        "    f, axs = plt.subplots(2,2,figsize=(10,10))\n",
        "    f.suptitle('shapiro_qq_plot', fontsize=25)\n",
        "\n",
        "    df_list = [(df,'RAW'), (np.sqrt(df),'SQRT'), (np.log(df),'LOG'), (np.log1p(df),'LOG1P')]\n",
        "\n",
        "    for data, ax in zip(df_list, axs.ravel()):\n",
        "        #qq plot 그리기\n",
        "        probplot(data[0], dist=stats.norm(), plot=ax)\n",
        "\n",
        "        #정규화 변환 방법 title로 설정\n",
        "        ax.set_title(data[1], size=20)\n",
        "\n",
        "        #shapiro 통계량, p-value 반올림 xlabel설정\n",
        "        statics = np.round(stats.shapiro(data[0])[:],3)\n",
        "        ax.set_xlabel(f'static:{statics[0]}, p-value: {statics[1]}',size=15)\n",
        "\n",
        "    \n",
        "    plt.tight_layout()\n",
        "    plt.show()"
      ],
      "metadata": {
        "id": "kGIuRKMs5Ypw"
      },
      "execution_count": null,
      "outputs": []
    },
    {
      "cell_type": "markdown",
      "source": [
        "## bar그래프에 수치 넣기 함수"
      ],
      "metadata": {
        "id": "xJsEAezKK-5x"
      }
    },
    {
      "cell_type": "code",
      "source": [
        "def write_percent(ax, total_size):\n",
        "    for patch in ax.patches:\n",
        "        height = patch.get_height()\n",
        "        width = patch.get_width()\n",
        "        left_coord = patch.get_x()\n",
        "        percent = height / total_size * 100\n",
        "\n",
        "        ax.text(x = left_coord + width / 2.0,\n",
        "                y = height + total_size * 0.001,\n",
        "                s = f'{percent:1.1f}%',\n",
        "                ha = 'center')"
      ],
      "metadata": {
        "id": "b7YGqE0JLCHJ"
      },
      "execution_count": null,
      "outputs": []
    },
    {
      "cell_type": "markdown",
      "source": [
        "## 데이터 프레임 타입별로 분리 요약"
      ],
      "metadata": {
        "id": "7PJOJq_H5dLh"
      }
    },
    {
      "cell_type": "code",
      "execution_count": null,
      "metadata": {
        "id": "CEKdyzhg5Jb6"
      },
      "outputs": [],
      "source": [
        "a = df.columns.to_series().groupby(df.dtypes).groups\n",
        "for i,v in a.items():\n",
        "    print(i,v)"
      ]
    },
    {
      "cell_type": "code",
      "source": [
        "def resumetable(df):\n",
        "    print(df.shape)\n",
        "    summary = pd.DataFrame(df.dtypes, columns=['데이터타입']) #.sort_values()\n",
        "    summary = summary.reset_index()\n",
        "    summary = summary.rename(columns = {'index':'피처'})\n",
        "    summary['결측치 개수'] = df.isnull().sum().values\n",
        "    summary['고윳값 개수'] = df.nunique().values\n",
        "    summary['첫 번째 값'] = df.loc[0].values\n",
        "    summary['두 번째 값'] = df.loc[1].values\n",
        "    summary['세 번째 값'] = df.loc[2].values\n",
        "\n",
        "\n",
        "    return summary"
      ],
      "metadata": {
        "id": "hEeaBixcIIkl"
      },
      "execution_count": null,
      "outputs": []
    },
    {
      "cell_type": "markdown",
      "source": [
        "##read_data"
      ],
      "metadata": {
        "id": "zDQSrvMB7EZ_"
      }
    },
    {
      "cell_type": "code",
      "source": [
        "import glob\n",
        "path = '/content/content/MyDrive/data/bike-sharing-demand'\n",
        "files = glob.glob(path + '/*.csv')\n",
        "for file in files:\n",
        "    if 'train' in file:\n",
        "        train = pd.read_csv(file)\n",
        "    elif 'test' in file:\n",
        "        test = pd.read_csv(file)\n",
        "    elif 'sample' in file:\n",
        "        sub = pd.read_csv(file)\n",
        "train.shape, test.shape, sub.shape"
      ],
      "metadata": {
        "id": "e2-VUbUz7GBj"
      },
      "execution_count": null,
      "outputs": []
    }
  ]
}