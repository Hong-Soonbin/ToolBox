{
  "nbformat": 4,
  "nbformat_minor": 0,
  "metadata": {
    "colab": {
      "name": "toolbox.ipynb",
      "provenance": [],
      "toc_visible": true
    },
    "kernelspec": {
      "name": "python3",
      "display_name": "Python 3"
    },
    "language_info": {
      "name": "python"
    }
  },
  "cells": [
    {
      "cell_type": "markdown",
      "source": [
        "## 구글 드라이브 연동"
      ],
      "metadata": {
        "id": "WCuES3hrzPD-"
      }
    },
    {
      "cell_type": "code",
      "source": [
        "from google.colab import drive\n",
        "drive.mount('/content/drive')"
      ],
      "metadata": {
        "id": "Upvvxe3IzOmY"
      },
      "execution_count": null,
      "outputs": []
    },
    {
      "cell_type": "markdown",
      "source": [
        "#data handling"
      ],
      "metadata": {
        "id": "bvK50sUF1vED"
      }
    },
    {
      "cell_type": "markdown",
      "source": [
        "## 데이터 프레임 타입별로 분리 요약"
      ],
      "metadata": {
        "id": "VjqaG40I1vEE"
      }
    },
    {
      "cell_type": "code",
      "execution_count": null,
      "metadata": {
        "id": "R6XVQBY_1vEE"
      },
      "outputs": [],
      "source": [
        "a = df.columns.to_series().groupby(df.dtypes).groups\n",
        "for i,v in a.items():\n",
        "    print(i,v)"
      ]
    },
    {
      "cell_type": "markdown",
      "source": [
        "## 피처요약표"
      ],
      "metadata": {
        "id": "BGN4cGzIUSJk"
      }
    },
    {
      "cell_type": "code",
      "source": [
        "def resumetable(df):\n",
        "    print(df.shape)\n",
        "    summary = pd.DataFrame(df.dtypes, columns=['데이터타입']) #.sort_values()\n",
        "    summary = summary.reset_index()\n",
        "    summary = summary.rename(columns = {'index':'피처'})\n",
        "    summary['결측치 개수'] = df.isnull().sum().values\n",
        "    summary['고윳값 개수'] = df.nunique().values\n",
        "    summary['첫 번째 값'] = df.loc[0].values\n",
        "    summary['두 번째 값'] = df.loc[1].values\n",
        "    summary['세 번째 값'] = df.loc[2].values\n",
        "\n",
        "\n",
        "    return summary"
      ],
      "metadata": {
        "id": "jRRWzoyf1vEE"
      },
      "execution_count": null,
      "outputs": []
    },
    {
      "cell_type": "markdown",
      "source": [
        "##read_data"
      ],
      "metadata": {
        "id": "9QMyPuvO1vEF"
      }
    },
    {
      "cell_type": "code",
      "source": [
        "import glob\n",
        "path = '/content/content/MyDrive/data/bike-sharing-demand'\n",
        "files = glob.glob(path + '/*.csv')\n",
        "for file in files:\n",
        "    if 'train' in file:\n",
        "        train = pd.read_csv(file)\n",
        "    elif 'test' in file:\n",
        "        test = pd.read_csv(file)\n",
        "    elif 'sample' in file:\n",
        "        sub = pd.read_csv(file)\n",
        "train.shape, test.shape, sub.shape"
      ],
      "metadata": {
        "id": "_YCN2OCm1vEF"
      },
      "execution_count": null,
      "outputs": []
    },
    {
      "cell_type": "markdown",
      "source": [
        "#시각화"
      ],
      "metadata": {
        "id": "_uZhtHiv1N4H"
      }
    },
    {
      "cell_type": "markdown",
      "source": [
        "##target에 대한 정규성 검증 qqplot 함수"
      ],
      "metadata": {
        "id": "zKDYsUU75ROQ"
      }
    },
    {
      "cell_type": "code",
      "source": [
        "#sapiro Normality Test\n",
        "from scipy import stats\n",
        "#qqplot \n",
        "from scipy.stats import probplot\n",
        "\n",
        "def shapiro_qq_plot(df):\n",
        "    '''\n",
        "    Args:\n",
        "        df['target']\n",
        "\n",
        "    Returns:\n",
        "        qq_plot and Shapiro statics of df['target']\n",
        "        with [raw, sqrt, log, log1p] transformations\n",
        "    '''\n",
        "    \n",
        "    # 경고메세지 끄기\n",
        "    import warnings\n",
        "    warnings.filterwarnings(action='ignore')\n",
        "\n",
        "    f, axs = plt.subplots(2,2,figsize=(10,10))\n",
        "    f.suptitle('shapiro_qq_plot', fontsize=25)\n",
        "\n",
        "    df_list = [(df,'RAW'), (np.sqrt(df),'SQRT'), (np.log(df),'LOG'), (np.log1p(df),'LOG1P')]\n",
        "\n",
        "    for data, ax in zip(df_list, axs.ravel()):\n",
        "        #qq plot 그리기\n",
        "        probplot(data[0], dist=stats.norm(), plot=ax)\n",
        "\n",
        "        #정규화 변환 방법 title로 설정\n",
        "        ax.set_title(data[1], size=20)\n",
        "\n",
        "        #shapiro 통계량, p-value 반올림 xlabel설정\n",
        "        statics = np.round(stats.shapiro(data[0])[:],3)\n",
        "        ax.set_xlabel(f'static:{statics[0]}, p-value: {statics[1]}',size=15)\n",
        "\n",
        "    \n",
        "    plt.tight_layout()\n",
        "    plt.show()"
      ],
      "metadata": {
        "id": "kGIuRKMs5Ypw"
      },
      "execution_count": null,
      "outputs": []
    },
    {
      "cell_type": "markdown",
      "source": [
        "## bar그래프에 수치 넣기 함수"
      ],
      "metadata": {
        "id": "xJsEAezKK-5x"
      }
    },
    {
      "cell_type": "code",
      "source": [
        "def write_percent(ax, total_size):\n",
        "    for patch in ax.patches:\n",
        "        height = patch.get_height()\n",
        "        width = patch.get_width()\n",
        "        left_coord = patch.get_x()\n",
        "        percent = height / total_size * 100\n",
        "\n",
        "        ax.text(x = left_coord + width / 2.0,\n",
        "                y = height + total_size * 0.001,\n",
        "                s = f'{percent:1.1f}%',\n",
        "                ha = 'center')"
      ],
      "metadata": {
        "id": "b7YGqE0JLCHJ"
      },
      "execution_count": null,
      "outputs": []
    },
    {
      "cell_type": "markdown",
      "source": [
        "##gridspec 사용법"
      ],
      "metadata": {
        "id": "DZ0T5n3O1vEF"
      }
    },
    {
      "cell_type": "code",
      "source": [
        "import matplotlib.gridspec as gridspec\n",
        "\n",
        "# 틀 준비\n",
        "mpl.rc('font', size = 12)\n",
        "grid = gridspec.GridSpec(3, 2)\n",
        "plt.figure(figsize=(10,16))\n",
        "plt.subplots_adjust(wspace=0.4, hspace=0.3)\n",
        "\n",
        "# 서브플롯 그리기\n",
        "bin = ['bin_0','bin_1','bin_2','bin_3','bin_4']\n",
        "\n",
        "for idx, feature in enumerate(bin):\n",
        "    ax = plt.subplot(grid[idx])\n",
        "\n",
        "    sns.countplot(x = feature,\n",
        "                  data = df,\n",
        "                  hue = 'target',\n",
        "                  palette = 'pastel',\n",
        "                  ax = ax)\n",
        "    ax.set_title(f'{feature} Distribution by Target')\n",
        "    write_percent(ax, len(df))"
      ],
      "metadata": {
        "id": "ib_f6up21vEF"
      },
      "execution_count": null,
      "outputs": []
    },
    {
      "cell_type": "markdown",
      "source": [
        "## pointplot taget 비율"
      ],
      "metadata": {
        "id": "Pgf7jHA49rP2"
      }
    },
    {
      "cell_type": "code",
      "source": [
        "def get_crosstab(df, feature):\n",
        "    crosstab = pd.crosstab(df[feature], df['target'], normalize='index') * 100\n",
        "    crosstab = crosstab.reset_index()\n",
        "    return crosstab\n",
        "\n",
        "def plot_pointplot(ax, feature, crosstab):\n",
        "    ax2 = ax.twinx() # x축은 공유하고 y축은 공유하지 않는 새로운 축 생성\n",
        "    # 새로운 축에 포인트플롯 그리기\n",
        "    ax2 = sns.pointplot(x=feature, y=1, data=crosstab,\n",
        "                        order=crosstab[feature].values, # 포인트플롯 순서\n",
        "                        color='black',                  # 포인트플롯 색상\n",
        "                        legend=False)                   # 범례 미표시\n",
        "    ax2.set_ylim(crosstab[1].min()-5, crosstab[1].max()*1.1) # y축 범위 설정\n",
        "    ax2.set_ylabel('Target 1 Ratio(%)')\n",
        "\n",
        "def write_percent(ax, total_size):\n",
        "    for patch in ax.patches:\n",
        "        height = patch.get_height()\n",
        "        width = patch.get_width()\n",
        "        left_coord = patch.get_x()\n",
        "        percent = height / total_size * 100\n",
        "\n",
        "        ax.text(x = left_coord + width / 2.0,\n",
        "                y = height + total_size * 0.001,\n",
        "                s = f'{percent:1.1f}%',\n",
        "                ha = 'center')\n",
        "\n",
        "def plot_cat_dist_with_true_ratio(df, features, num_rows, num_cols, \n",
        "                                  size=(15, 20)):\n",
        "    plt.figure(figsize=size)  # 전체 Figure 크기 설정\n",
        "    grid = gridspec.GridSpec(num_rows, num_cols) # 서브플롯 배치\n",
        "    plt.subplots_adjust(wspace=0.45, hspace=0.3) # 서브플롯 좌우/상하 여백 설정\n",
        "    \n",
        "    for idx, feature in enumerate(features): \n",
        "        ax = plt.subplot(grid[idx])\n",
        "        crosstab = get_crosstab(df, feature) # 교차분석표 생성\n",
        "\n",
        "        # ax축에 타깃값 분포 카운트플롯 그리기\n",
        "        sns.countplot(x=feature, data=df,\n",
        "                      order=crosstab[feature].values,\n",
        "                      color='skyblue',\n",
        "                      ax=ax)\n",
        "\n",
        "        write_percent(ax, len(df)) # 비율 표시\n",
        "       \n",
        "        plot_pointplot(ax, feature, crosstab) # 포인트플롯 그리기\n",
        "        \n",
        "        ax.set_title(f'{feature} Distribution') # 그래프 제목 설정"
      ],
      "metadata": {
        "id": "I3tdNXlT9yDy"
      },
      "execution_count": null,
      "outputs": []
    },
    {
      "cell_type": "markdown",
      "source": [
        "#전처리"
      ],
      "metadata": {
        "id": "s1SgmPkK-BH1"
      }
    },
    {
      "cell_type": "markdown",
      "source": [
        "##인코딩"
      ],
      "metadata": {
        "id": "-Ef32J6pyWAE"
      }
    },
    {
      "cell_type": "code",
      "source": [
        "from sklearn.preprocessing import OneHotEncoder\n",
        "from sklearn.preprocessing import OrdinalEncoder"
      ],
      "metadata": {
        "id": "b3LaQg9CyXPB"
      },
      "execution_count": null,
      "outputs": []
    },
    {
      "cell_type": "markdown",
      "source": [
        "###희소행렬 합치기"
      ],
      "metadata": {
        "id": "wG0UScTk6r18"
      }
    },
    {
      "cell_type": "code",
      "source": [
        "from scipy import sparse\n",
        "all_data_sprs = sparse.hstack([sparse.csr_matrix(all_data),\n",
        "               encoded_nom_matrix,\n",
        "               encoded_date_matrix],\n",
        "              format='csr')"
      ],
      "metadata": {
        "id": "a1ANU8vz6ufX"
      },
      "execution_count": null,
      "outputs": []
    },
    {
      "cell_type": "markdown",
      "source": [
        "## 스케일러"
      ],
      "metadata": {
        "id": "PLt_hman5_kp"
      }
    },
    {
      "cell_type": "markdown",
      "source": [
        "###MinMax"
      ],
      "metadata": {
        "id": "gmcQqgxA6x2W"
      }
    },
    {
      "cell_type": "code",
      "source": [
        "from sklearn.preprocessing import MinMaxScaler\n",
        "\n",
        "ord_features = [i for i in all_data if i[:3] == 'ord']\n",
        "\n",
        "all_data[ord_features] = MinMaxScaler().fit_transform(all_data[ord_features])"
      ],
      "metadata": {
        "id": "QmH1s_FT6Ayr"
      },
      "execution_count": null,
      "outputs": []
    },
    {
      "cell_type": "markdown",
      "source": [
        "# 베이스라인 모델링"
      ],
      "metadata": {
        "id": "ZPWzIpyNtUof"
      }
    },
    {
      "cell_type": "markdown",
      "source": [
        "##분류"
      ],
      "metadata": {
        "id": "V-Ca10NotZz_"
      }
    },
    {
      "cell_type": "markdown",
      "source": [
        "###LogisticRegression"
      ],
      "metadata": {
        "id": "LI_ksHpRtb3f"
      }
    },
    {
      "cell_type": "code",
      "source": [
        "from sklearn.linear_model import LogisticRegression\n",
        "\n",
        "logistic_model = LogisticRegression(max_iter=1000, random_state=42)\n",
        "logistic_model.fit(X_train,y_train)"
      ],
      "metadata": {
        "id": "zQlmFbYGtWAX"
      },
      "execution_count": null,
      "outputs": []
    },
    {
      "cell_type": "code",
      "source": [
        ""
      ],
      "metadata": {
        "id": "OCMdurastexe"
      },
      "execution_count": null,
      "outputs": []
    },
    {
      "cell_type": "markdown",
      "source": [
        "# 하이퍼 파라미터 최적화"
      ],
      "metadata": {
        "id": "Vc8IivnX9yPd"
      }
    },
    {
      "cell_type": "markdown",
      "source": [
        "## GridSearchCV"
      ],
      "metadata": {
        "id": "h9e3O47193Bs"
      }
    },
    {
      "cell_type": "code",
      "source": [
        "%%time\n",
        "from sklearn.model_selection import GridSearchCV\n",
        "from sklearn.linear_model import LogisticRegression\n",
        "\n",
        "logistic_model = LogisticRegression()\n",
        "\n",
        "lr_params = {'C':[0.1, 0.125, 0.2], 'max_iter':[800, 900, 1000], \n",
        "             'solver':['liblinear'], 'random_state':[42]}\n",
        "\n",
        "# 그리드서치 객체 생성\n",
        "gridsearch_logistic_model = GridSearchCV(estimator=logistic_model,\n",
        "                                         param_grid=lr_params,\n",
        "                                         scoring='roc_auc', # 평가지표\n",
        "                                         cv=5)\n",
        "# 그리드서치 수행\n",
        "gridsearch_logistic_model.fit(X_train, y_train)\n",
        "\n",
        "print('최적 하이퍼파라미터:', gridsearch_logistic_model.best_params_)"
      ],
      "metadata": {
        "id": "rZMY00eZ95-8"
      },
      "execution_count": null,
      "outputs": []
    },
    {
      "cell_type": "markdown",
      "source": [
        "#평가지표"
      ],
      "metadata": {
        "id": "sZrW2550tg4F"
      }
    },
    {
      "cell_type": "markdown",
      "source": [
        "## roc auc\n"
      ],
      "metadata": {
        "id": "qBRaFgAttiKY"
      }
    },
    {
      "cell_type": "code",
      "source": [
        "from sklearn.metrics import roc_auc_score\n",
        "\n",
        "roc_auc = roc_auc_score(y_valid, y_valid_preds)\n",
        "print(f'검증 데이터 ROC AUC : {roc_auc:.4f}')"
      ],
      "metadata": {
        "id": "qUOs3P0qtjbf"
      },
      "execution_count": null,
      "outputs": []
    }
  ]
}